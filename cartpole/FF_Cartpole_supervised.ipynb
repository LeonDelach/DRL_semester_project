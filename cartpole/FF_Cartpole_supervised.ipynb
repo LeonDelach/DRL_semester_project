{
 "cells": [
  {
   "cell_type": "code",
   "execution_count": 1,
   "id": "0a355d6f",
   "metadata": {},
   "outputs": [],
   "source": [
    "import gymnasium as gym\n",
    "\n",
    "import torch\n",
    "import torch.nn as nn\n",
    "# import torch.nn.functional as F\n",
    "from torch.optim import Adam\n",
    "from tqdm import tqdm\n",
    "\n",
    "from itertools import count\n",
    "import random\n",
    "from random import sample\n",
    "from random import random\n",
    "# import numpy as np\n",
    "\n",
    "env = gym.make(\"CartPole-v1\")"
   ]
  },
  {
   "cell_type": "code",
   "execution_count": 2,
   "id": "e5b22f5e",
   "metadata": {},
   "outputs": [],
   "source": [
    "class Net(torch.nn.Module):\n",
    "    def __init__(self, dims):\n",
    "        super().__init__()\n",
    "        self.layers = []\n",
    "        for d in range(len(dims) - 1):\n",
    "            self.layers += [Layer(dims[d], dims[d + 1])]\n",
    "\n",
    "    def predict(self, x):\n",
    "        goodness_per_label = []\n",
    "        for label in range(2):  # 10 for mnist\n",
    "            h = torch.tensor([x.tolist() + [label]])\n",
    "            goodness = []\n",
    "            for layer in self.layers:\n",
    "                h = layer(h)\n",
    "                goodness += [h.pow(2).mean(1)]\n",
    "            goodness_per_label += [sum(goodness).unsqueeze(1)]\n",
    "        goodness_per_label = torch.cat(goodness_per_label, 1)\n",
    "        return goodness_per_label.argmax(1)\n",
    "\n",
    "    def train(self, x_pos, x_neg):\n",
    "        h_pos, h_neg = x_pos, x_neg\n",
    "        for i, layer in enumerate(self.layers):\n",
    "            print('training layer', i, '...')\n",
    "            h_pos, h_neg = layer.train(h_pos, h_neg)\n",
    "    \n",
    "    def is_good(self, x):\n",
    "        goodness = []\n",
    "        h = x.clone().detach()   # .tolist()\n",
    "        for layer in self.layers:\n",
    "            h = layer(h)\n",
    "            goodness += [h.pow(2).mean(1)]\n",
    "        return -sum(goodness)"
   ]
  },
  {
   "cell_type": "code",
   "execution_count": 3,
   "id": "71551e43",
   "metadata": {},
   "outputs": [],
   "source": [
    "class Layer(nn.Linear):\n",
    "    def __init__(self, in_features, out_features, bias=True, device=None, dtype=None):\n",
    "        super().__init__(in_features, out_features, bias, device, dtype)\n",
    "        self.relu = torch.nn.ReLU()\n",
    "        self.opt = Adam(self.parameters(), lr=0.0003)\n",
    "        self.threshold = 2.0\n",
    "        self.num_epochs = 1\n",
    "\n",
    "    def forward(self, x):\n",
    "        # print(x.shape)\n",
    "        x_direction = x / (x.norm(2, 1, keepdim=True) + 1e-4) # normalization\n",
    "        # torch.mm -> matrix multiplication\n",
    "        out = self.relu(torch.mm(x_direction, self.weight.T) + self.bias.unsqueeze(0))\n",
    "\n",
    "        return out\n",
    "\n",
    "    def train(self, x_pos, x_neg):\n",
    "        for i in tqdm(range(self.num_epochs)):\n",
    "            out_pos = self.forward(x_pos)\n",
    "            out_neg = self.forward(x_neg)\n",
    "            g_pos = out_pos.pow(2).mean(1)\n",
    "            g_neg = out_neg.pow(2).mean(1)\n",
    "            loss = torch.log(1 + torch.exp(torch.cat([-g_pos + self.threshold, g_neg - self.threshold]))).mean()\n",
    "            self.opt.zero_grad()\n",
    "            loss.backward()\n",
    "            # torch.nn.utils.clip_grad_norm_(self.parameters(), max_norm=2)\n",
    "            self.opt.step()\n",
    "        return self.forward(x_pos).detach(), self.forward(x_neg).detach()"
   ]
  },
  {
   "cell_type": "code",
   "execution_count": 4,
   "id": "3b962420",
   "metadata": {},
   "outputs": [],
   "source": [
    "def get_posneg_data(epsilon=0.5, N=5, look_next = False, thresh=0.5):\n",
    "    negative_data = []\n",
    "    positive_data = []\n",
    "    game_lens = []\n",
    "    for i_episode in range(20):\n",
    "        state, info = env.reset()\n",
    "        game = []\n",
    "        for t in count():\n",
    "            s = random()\n",
    "            if s > epsilon:\n",
    "                action = env.action_space.sample()\n",
    "            else:\n",
    "                action = net.predict(torch.tensor(state)).item()\n",
    "            observation, reward, terminated, truncated, _ = env.step(action)\n",
    "            done = terminated or truncated\n",
    "            if terminated:\n",
    "                next_state = None\n",
    "                game.append(state.tolist() + [action])\n",
    "            else:\n",
    "                next_state = observation  \n",
    "                game.append(state.tolist() + [action])\n",
    "                if look_next and (net.is_good(torch.tensor([next_state.tolist() + [0]])) < thresh and\n",
    "                                  net.is_good(torch.tensor([next_state.tolist() + [1]])) < thresh):\n",
    "                    negative_data.append(state.tolist() + [action])\n",
    "            \n",
    "            state = next_state\n",
    "            if done:\n",
    "                break\n",
    "          \n",
    "        game_lens.append(len(game))\n",
    "        if len(game) > N and not truncated:\n",
    "            negative_data += game[-N:]\n",
    "            positive_data += game[:-N]\n",
    "        else:\n",
    "            negative_data += game\n",
    "      \n",
    "    mean_len=sum(game_lens)/200\n",
    "    # print(mean_len)\n",
    "    pos_len = len(positive_data) \n",
    "    neg_len = len(negative_data)\n",
    "    # print(pos_len)\n",
    "    # print(neg_len)\n",
    "    if pos_len > neg_len:\n",
    "        positive_data = sample(positive_data, neg_len)\n",
    "    else:\n",
    "        negative_data = sample(negative_data, pos_len)\n",
    "    \n",
    "    return torch.tensor(positive_data), torch.tensor(negative_data), mean_len\n"
   ]
  },
  {
   "cell_type": "code",
   "execution_count": 5,
   "id": "167fa873",
   "metadata": {},
   "outputs": [
    {
     "name": "stdout",
     "output_type": "stream",
     "text": [
      "training layer 0 ...\n"
     ]
    },
    {
     "name": "stderr",
     "output_type": "stream",
     "text": [
      "100%|███████████████████████████████████████████████████████████████████████████████████| 1/1 [00:00<00:00, 167.10it/s]\n"
     ]
    },
    {
     "name": "stdout",
     "output_type": "stream",
     "text": [
      "training layer 1 ...\n"
     ]
    },
    {
     "name": "stderr",
     "output_type": "stream",
     "text": [
      "100%|████████████████████████████████████████████████████████████████████████████████████████████| 1/1 [00:00<?, ?it/s]\n"
     ]
    },
    {
     "name": "stdout",
     "output_type": "stream",
     "text": [
      "training layer 0 ...\n"
     ]
    },
    {
     "name": "stderr",
     "output_type": "stream",
     "text": [
      "  0%|                                                                                            | 0/1 [00:00<?, ?it/s]\n"
     ]
    },
    {
     "ename": "IndexError",
     "evalue": "Dimension out of range (expected to be in range of [-1, 0], but got 1)",
     "output_type": "error",
     "traceback": [
      "\u001b[1;31m---------------------------------------------------------------------------\u001b[0m",
      "\u001b[1;31mIndexError\u001b[0m                                Traceback (most recent call last)",
      "Cell \u001b[1;32mIn[5], line 13\u001b[0m\n\u001b[0;32m     11\u001b[0m     pos_data, neg_data, m \u001b[38;5;241m=\u001b[39m get_posneg_data(epsilon\u001b[38;5;241m=\u001b[39meps, N\u001b[38;5;241m=\u001b[39m\u001b[38;5;28mround\u001b[39m(\u001b[38;5;241m0.3\u001b[39m\u001b[38;5;241m*\u001b[39mm)) \u001b[38;5;66;03m# , look_next = l_n, thresh=0.2\u001b[39;00m\n\u001b[0;32m     12\u001b[0m     mean_lens\u001b[38;5;241m.\u001b[39mappend(m)\n\u001b[1;32m---> 13\u001b[0m     \u001b[43mnet\u001b[49m\u001b[38;5;241;43m.\u001b[39;49m\u001b[43mtrain\u001b[49m\u001b[43m(\u001b[49m\u001b[43mpos_data\u001b[49m\u001b[43m,\u001b[49m\u001b[43m \u001b[49m\u001b[43mneg_data\u001b[49m\u001b[43m)\u001b[49m\n\u001b[0;32m     15\u001b[0m \u001b[38;5;66;03m# print(mean_lens)\u001b[39;00m\n",
      "Cell \u001b[1;32mIn[2], line 24\u001b[0m, in \u001b[0;36mNet.train\u001b[1;34m(self, x_pos, x_neg)\u001b[0m\n\u001b[0;32m     22\u001b[0m \u001b[38;5;28;01mfor\u001b[39;00m i, layer \u001b[38;5;129;01min\u001b[39;00m \u001b[38;5;28menumerate\u001b[39m(\u001b[38;5;28mself\u001b[39m\u001b[38;5;241m.\u001b[39mlayers):\n\u001b[0;32m     23\u001b[0m     \u001b[38;5;28mprint\u001b[39m(\u001b[38;5;124m'\u001b[39m\u001b[38;5;124mtraining layer\u001b[39m\u001b[38;5;124m'\u001b[39m, i, \u001b[38;5;124m'\u001b[39m\u001b[38;5;124m...\u001b[39m\u001b[38;5;124m'\u001b[39m)\n\u001b[1;32m---> 24\u001b[0m     h_pos, h_neg \u001b[38;5;241m=\u001b[39m \u001b[43mlayer\u001b[49m\u001b[38;5;241;43m.\u001b[39;49m\u001b[43mtrain\u001b[49m\u001b[43m(\u001b[49m\u001b[43mh_pos\u001b[49m\u001b[43m,\u001b[49m\u001b[43m \u001b[49m\u001b[43mh_neg\u001b[49m\u001b[43m)\u001b[49m\n",
      "Cell \u001b[1;32mIn[3], line 19\u001b[0m, in \u001b[0;36mLayer.train\u001b[1;34m(self, x_pos, x_neg)\u001b[0m\n\u001b[0;32m     17\u001b[0m \u001b[38;5;28;01mdef\u001b[39;00m \u001b[38;5;21mtrain\u001b[39m(\u001b[38;5;28mself\u001b[39m, x_pos, x_neg):\n\u001b[0;32m     18\u001b[0m     \u001b[38;5;28;01mfor\u001b[39;00m i \u001b[38;5;129;01min\u001b[39;00m tqdm(\u001b[38;5;28mrange\u001b[39m(\u001b[38;5;28mself\u001b[39m\u001b[38;5;241m.\u001b[39mnum_epochs)):\n\u001b[1;32m---> 19\u001b[0m         out_pos \u001b[38;5;241m=\u001b[39m \u001b[38;5;28;43mself\u001b[39;49m\u001b[38;5;241;43m.\u001b[39;49m\u001b[43mforward\u001b[49m\u001b[43m(\u001b[49m\u001b[43mx_pos\u001b[49m\u001b[43m)\u001b[49m\n\u001b[0;32m     20\u001b[0m         out_neg \u001b[38;5;241m=\u001b[39m \u001b[38;5;28mself\u001b[39m\u001b[38;5;241m.\u001b[39mforward(x_neg)\n\u001b[0;32m     21\u001b[0m         g_pos \u001b[38;5;241m=\u001b[39m out_pos\u001b[38;5;241m.\u001b[39mpow(\u001b[38;5;241m2\u001b[39m)\u001b[38;5;241m.\u001b[39mmean(\u001b[38;5;241m1\u001b[39m)\n",
      "Cell \u001b[1;32mIn[3], line 11\u001b[0m, in \u001b[0;36mLayer.forward\u001b[1;34m(self, x)\u001b[0m\n\u001b[0;32m      9\u001b[0m \u001b[38;5;28;01mdef\u001b[39;00m \u001b[38;5;21mforward\u001b[39m(\u001b[38;5;28mself\u001b[39m, x):\n\u001b[0;32m     10\u001b[0m     \u001b[38;5;66;03m# print(x.shape)\u001b[39;00m\n\u001b[1;32m---> 11\u001b[0m     x_direction \u001b[38;5;241m=\u001b[39m x \u001b[38;5;241m/\u001b[39m (\u001b[43mx\u001b[49m\u001b[38;5;241;43m.\u001b[39;49m\u001b[43mnorm\u001b[49m\u001b[43m(\u001b[49m\u001b[38;5;241;43m2\u001b[39;49m\u001b[43m,\u001b[49m\u001b[43m \u001b[49m\u001b[38;5;241;43m1\u001b[39;49m\u001b[43m,\u001b[49m\u001b[43m \u001b[49m\u001b[43mkeepdim\u001b[49m\u001b[38;5;241;43m=\u001b[39;49m\u001b[38;5;28;43;01mTrue\u001b[39;49;00m\u001b[43m)\u001b[49m \u001b[38;5;241m+\u001b[39m \u001b[38;5;241m1e-4\u001b[39m) \u001b[38;5;66;03m# normalization\u001b[39;00m\n\u001b[0;32m     12\u001b[0m     \u001b[38;5;66;03m# torch.mm -> matrix multiplication\u001b[39;00m\n\u001b[0;32m     13\u001b[0m     out \u001b[38;5;241m=\u001b[39m \u001b[38;5;28mself\u001b[39m\u001b[38;5;241m.\u001b[39mrelu(torch\u001b[38;5;241m.\u001b[39mmm(x_direction, \u001b[38;5;28mself\u001b[39m\u001b[38;5;241m.\u001b[39mweight\u001b[38;5;241m.\u001b[39mT) \u001b[38;5;241m+\u001b[39m \u001b[38;5;28mself\u001b[39m\u001b[38;5;241m.\u001b[39mbias\u001b[38;5;241m.\u001b[39munsqueeze(\u001b[38;5;241m0\u001b[39m))\n",
      "File \u001b[1;32m~\\anaconda3\\envs\\drl\\lib\\site-packages\\torch\\_tensor.py:647\u001b[0m, in \u001b[0;36mTensor.norm\u001b[1;34m(self, p, dim, keepdim, dtype)\u001b[0m\n\u001b[0;32m    643\u001b[0m \u001b[38;5;28;01mif\u001b[39;00m has_torch_function_unary(\u001b[38;5;28mself\u001b[39m):\n\u001b[0;32m    644\u001b[0m     \u001b[38;5;28;01mreturn\u001b[39;00m handle_torch_function(\n\u001b[0;32m    645\u001b[0m         Tensor\u001b[38;5;241m.\u001b[39mnorm, (\u001b[38;5;28mself\u001b[39m,), \u001b[38;5;28mself\u001b[39m, p\u001b[38;5;241m=\u001b[39mp, dim\u001b[38;5;241m=\u001b[39mdim, keepdim\u001b[38;5;241m=\u001b[39mkeepdim, dtype\u001b[38;5;241m=\u001b[39mdtype\n\u001b[0;32m    646\u001b[0m     )\n\u001b[1;32m--> 647\u001b[0m \u001b[38;5;28;01mreturn\u001b[39;00m \u001b[43mtorch\u001b[49m\u001b[38;5;241;43m.\u001b[39;49m\u001b[43mnorm\u001b[49m\u001b[43m(\u001b[49m\u001b[38;5;28;43mself\u001b[39;49m\u001b[43m,\u001b[49m\u001b[43m \u001b[49m\u001b[43mp\u001b[49m\u001b[43m,\u001b[49m\u001b[43m \u001b[49m\u001b[43mdim\u001b[49m\u001b[43m,\u001b[49m\u001b[43m \u001b[49m\u001b[43mkeepdim\u001b[49m\u001b[43m,\u001b[49m\u001b[43m \u001b[49m\u001b[43mdtype\u001b[49m\u001b[38;5;241;43m=\u001b[39;49m\u001b[43mdtype\u001b[49m\u001b[43m)\u001b[49m\n",
      "File \u001b[1;32m~\\anaconda3\\envs\\drl\\lib\\site-packages\\torch\\functional.py:1517\u001b[0m, in \u001b[0;36mnorm\u001b[1;34m(input, p, dim, keepdim, out, dtype)\u001b[0m\n\u001b[0;32m   1515\u001b[0m _p \u001b[38;5;241m=\u001b[39m \u001b[38;5;241m2.0\u001b[39m \u001b[38;5;28;01mif\u001b[39;00m p \u001b[38;5;129;01mis\u001b[39;00m \u001b[38;5;28;01mNone\u001b[39;00m \u001b[38;5;28;01melse\u001b[39;00m p\n\u001b[0;32m   1516\u001b[0m \u001b[38;5;28;01mif\u001b[39;00m out \u001b[38;5;129;01mis\u001b[39;00m \u001b[38;5;28;01mNone\u001b[39;00m:\n\u001b[1;32m-> 1517\u001b[0m     \u001b[38;5;28;01mreturn\u001b[39;00m \u001b[43mtorch\u001b[49m\u001b[38;5;241;43m.\u001b[39;49m\u001b[43mlinalg\u001b[49m\u001b[38;5;241;43m.\u001b[39;49m\u001b[43mvector_norm\u001b[49m\u001b[43m(\u001b[49m\u001b[38;5;28;43minput\u001b[39;49m\u001b[43m,\u001b[49m\u001b[43m \u001b[49m\u001b[43m_p\u001b[49m\u001b[43m,\u001b[49m\u001b[43m \u001b[49m\u001b[43m_dim\u001b[49m\u001b[43m,\u001b[49m\u001b[43m \u001b[49m\u001b[43mkeepdim\u001b[49m\u001b[43m,\u001b[49m\u001b[43m \u001b[49m\u001b[43mdtype\u001b[49m\u001b[38;5;241;43m=\u001b[39;49m\u001b[43mdtype\u001b[49m\u001b[43m)\u001b[49m\n\u001b[0;32m   1518\u001b[0m \u001b[38;5;28;01melse\u001b[39;00m:\n\u001b[0;32m   1519\u001b[0m     \u001b[38;5;28;01mreturn\u001b[39;00m torch\u001b[38;5;241m.\u001b[39mlinalg\u001b[38;5;241m.\u001b[39mvector_norm(\u001b[38;5;28minput\u001b[39m, _p, _dim, keepdim, dtype\u001b[38;5;241m=\u001b[39mdtype, out\u001b[38;5;241m=\u001b[39mout)\n",
      "\u001b[1;31mIndexError\u001b[0m: Dimension out of range (expected to be in range of [-1, 0], but got 1)"
     ]
    }
   ],
   "source": [
    "net = Net([5, 100, 100])\n",
    "env = gym.make(\"CartPole-v1\")\n",
    "\n",
    "n_iters = 200\n",
    "\n",
    "mean_lens = []\n",
    "m=10\n",
    "\n",
    "for i in range(n_iters):\n",
    "    eps = 0.8*(1-i/n_iters)\n",
    "    pos_data, neg_data, m = get_posneg_data(epsilon=eps, N=round(0.3*m)) # , look_next = l_n, thresh=0.2\n",
    "    mean_lens.append(m)\n",
    "    net.train(pos_data, neg_data)\n",
    "\n",
    "# print(mean_lens)"
   ]
  },
  {
   "cell_type": "code",
   "execution_count": null,
   "id": "4fc2da35",
   "metadata": {},
   "outputs": [],
   "source": [
    "print(mean_lens)"
   ]
  },
  {
   "cell_type": "code",
   "execution_count": null,
   "id": "2864009e",
   "metadata": {},
   "outputs": [],
   "source": [
    "import matplotlib.pyplot as plt\n",
    "\n",
    "# 30 % of game is negative\n",
    "plt.plot([10.565, 10.475, 10.47, 10.635, 10.335, 10.44, 10.56, 10.49, 10.635, 10.805, 10.725, 10.78, 10.61, 10.645, 10.785, 10.945, 10.83, 10.745, 10.84, 10.84, 10.96, 10.85, 11.165, 10.905, 10.78, 11.135, 11.065, 11.11, 10.85, 10.96, 11.05, 11.435, 11.13, 10.98, 11.09, 11.24, 11.445, 11.24, 11.165, 11.27, 11.32, 11.535, 11.475, 11.64, 11.655, 11.565, 11.545, 11.515, 11.45, 11.775, 11.405, 11.81, 11.69, 11.57, 11.595, 12.035, 11.47, 12.025, 11.875, 12.24, 12.195, 12.14, 11.935, 11.685, 12.14, 12.27, 12.14, 12.17, 12.33, 12.47, 12.315, 12.045, 12.675, 12.495, 12.4, 12.645, 12.39, 12.52, 12.57, 12.61, 12.775, 12.75, 12.76, 12.645, 12.75, 13.11, 13.155, 13.26, 13.065, 13.53, 12.985, 12.995, 13.215, 12.475, 13.125, 13.205, 12.955, 13.275, 13.825, 13.055, 13.345, 13.02, 13.63, 13.37, 13.545, 13.615, 13.5, 14.27, 13.695, 13.525, 13.435, 13.525, 14.185, 13.67, 14.425, 14.26, 14.62, 14.18, 14.575, 14.43, 15.13, 14.855, 14.43, 14.82, 14.83, 14.64, 15.48, 14.95, 16.9, 17.195, 17.415, 17.59, 18.58, 19.99, 19.2, 19.59, 20.645, 20.525, 19.89, 21.375, 19.69, 20.965, 21.8, 21.795, 20.74, 21.32, 20.225, 22.7, 21.645, 22.845, 23.32, 23.375, 22.74, 23.94, 24.055, 24.295, 24.725, 24.47, 26.6, 26.7, 29.29, 27.195, 26.33, 27.6, 28.37, 26.8, 28.565, 27.61, 27.11, 28.44, 26.14, 25.675, 26.9, 28.115, 24.04, 24.235, 25.79, 25.985, 25.63, 25.505, 24.52, 26.32, 25.67, 24.68, 27.325, 25.465, 22.47, 23.61, 25.12, 24.18, 23.05, 23.16, 27.71, 23.945, 23.51, 23.33, 23.06, 23.545, 22.67, 24.455])\n",
    "plt.title(\"mean length of a game during the training\")\n",
    "plt.xlabel(\"epoch\")\n",
    "plt.ylabel(\"length\")\n",
    "plt.show()"
   ]
  },
  {
   "cell_type": "code",
   "execution_count": null,
   "id": "dff146d7",
   "metadata": {},
   "outputs": [],
   "source": [
    "# N=5\n",
    "\n",
    "import matplotlib.pyplot as plt\n",
    "# import matplotlib.pyplot as plt\n",
    "# mean_lens = [12.24, 13.665, 14.445, 16.675, 20.415]\n",
    "\n",
    "plt.plot([10.51, 10.805, 10.675, 11.14, 11.085, 10.8, 11.08, 11.22, 11.04, 11.24, 11.115, 11.04, 11.325, 11.82, 11.5, 11.38, 11.64, 11.805, 11.855, 11.845, 12.12, 11.585, 12.45, 13.18, 12.64, 12.705, 12.535, 12.745, 12.98, 12.995, 13.08, 12.98, 12.365, 13.52, 13.7, 13.445, 13.98, 14.51, 14.01, 14.445, 13.93, 14.38, 15.275, 14.715, 15.185, 15.375, 15.06, 15.88, 15.055, 15.71, 16.145, 15.755, 15.865, 16.85, 16.84, 17.06, 17.35, 16.895, 17.7, 18.56, 17.895, 18.23, 18.38, 17.885, 19.36, 19.435, 18.53, 18.99, 20.71, 18.905, 20.345, 19.845, 21.46, 20.265, 21.26, 20.005, 20.225, 20.445, 20.825, 21.53, 20.205, 22.03, 20.87, 19.895, 20.655, 21.32, 22.22, 21.78, 21.36, 21.6, 21.72, 22.915, 22.67, 22.7, 21.67, 23.025, 22.9, 21.38, 21.78, 22.68])\n",
    "plt.title(\"mean length of a game during the training\")\n",
    "plt.xlabel(\"epoch\")\n",
    "plt.ylabel(\"length\")\n",
    "plt.show()\n",
    "\n"
   ]
  },
  {
   "cell_type": "code",
   "execution_count": null,
   "id": "74e7dc8a",
   "metadata": {},
   "outputs": [],
   "source": [
    "# N=1\n",
    "\n",
    "import matplotlib.pyplot as plt\n",
    "# import matplotlib.pyplot as plt\n",
    "# mean_lens = [12.24, 13.665, 14.445, 16.675, 20.415]\n",
    "\n",
    "plt.plot([10.49, 10.915, 10.685, 10.825, 10.515, 10.84, 10.865, 10.945, 10.91, 11.145, 11.225, 11.095, 11.18, 11.225, 11.265, 11.205, 11.08, 11.805, 11.805, 11.995, 11.79, 11.95, 11.99, 12.185, 12.26, 12.11, 12.36, 12.53, 12.795, 12.6, 12.465, 13.03, 12.905, 13.365, 12.995, 13.715, 13.385, 13.835, 14.01, 13.505, 13.87, 14.155, 14.31, 14.545, 14.545, 15.1, 14.655, 15.265, 15.62, 15.56, 15.885, 16.25, 16.71, 16.01, 15.425, 16.875, 17.56, 17.99, 17.59, 16.96, 17.605, 17.145, 17.33, 18.685, 17.955, 17.905, 18.09, 17.985, 19.205, 19.0, 18.62, 18.085, 18.625, 19.955, 19.195, 21.345, 19.35, 21.09, 20.71, 20.455, 20.395, 20.385, 20.16, 20.665, 21.175, 21.625, 22.97, 22.085, 23.205, 21.68, 21.725, 22.85, 21.005, 20.885, 21.15, 22.645, 21.66, 21.755, 22.52, 21.545])\n",
    "plt.title(\"mean length of a game during the training\")\n",
    "plt.xlabel(\"epoch\")\n",
    "plt.ylabel(\"length\")\n",
    "plt.show()"
   ]
  },
  {
   "cell_type": "code",
   "execution_count": null,
   "id": "61fa5fce",
   "metadata": {},
   "outputs": [],
   "source": [
    "# N=2\n",
    "\n",
    "import matplotlib.pyplot as plt\n",
    "# import matplotlib.pyplot as plt\n",
    "# mean_lens = [12.24, 13.665, 14.445, 16.675, 20.415]\n",
    "\n",
    "plt.plot([11.3, 11.575, 11.395, 12.125, 11.3, 11.575, 11.205, 11.695, 11.615, 11.42, 11.62, 11.605, 12.06, 11.68, 11.775, 12.5, 11.9, 11.81, 12.235, 12.105, 12.35, 12.14, 12.28, 12.46, 12.355, 13.17, 12.905, 13.175, 12.615, 13.035, 13.335, 12.95, 13.575, 13.745, 13.55, 14.655, 14.17, 13.8, 14.585, 14.095, 13.97, 14.545, 15.115, 14.47, 15.52, 14.93, 15.23, 14.36, 15.69, 14.745, 15.805, 16.21, 14.96, 15.235, 15.5, 16.185, 15.65, 16.575, 17.22, 17.48, 16.19, 17.12, 17.36, 17.735, 16.58, 17.29, 18.585, 19.105, 17.665, 18.655, 18.535, 18.735, 20.3, 18.295, 20.785, 20.495, 19.45, 20.195, 20.325, 20.66, 20.995, 20.85, 20.125, 21.595, 21.205, 21.06, 21.62, 20.65, 19.94, 21.99, 21.2, 21.71, 21.725, 23.315, 21.82, 21.705, 21.915, 22.425, 21.915, 22.235])\n",
    "plt.title(\"mean length of a game during the training\")\n",
    "plt.xlabel(\"epoch\")\n",
    "plt.ylabel(\"length\")\n",
    "plt.show()"
   ]
  },
  {
   "cell_type": "code",
   "execution_count": null,
   "id": "8bc9b819",
   "metadata": {},
   "outputs": [],
   "source": [
    "# N=4\n",
    "\n",
    "import matplotlib.pyplot as plt\n",
    "# import matplotlib.pyplot as plt\n",
    "# mean_lens = [12.24, 13.665, 14.445, 16.675, 20.415]\n",
    "\n",
    "plt.plot([11.6, 13.055, 12.525, 12.29, 11.735, 12.44, 12.18, 12.54, 12.8, 12.785, 12.565, 12.75, 12.055, 12.29, 13.23, 12.81, 13.79, 13.13, 12.77, 13.435, 13.64, 12.7, 13.355, 13.3, 13.3, 14.425, 13.775, 14.155, 14.245, 13.425, 14.995, 14.695, 14.815, 14.99, 14.42, 14.205, 14.795, 15.18, 15.405, 14.705, 14.83, 14.36, 15.72, 15.88, 15.325, 16.305, 16.01, 16.195, 15.875, 15.625, 15.765, 15.975, 17.355, 15.42, 16.41, 16.735, 17.92, 17.11, 17.31, 17.89, 18.135, 17.175, 18.075, 17.86, 18.79, 18.285, 18.535, 19.445, 17.825, 18.535, 18.695, 18.035, 18.18, 19.38, 18.79, 19.77, 19.11, 18.255, 20.785, 20.165, 21.1, 19.54, 20.55, 19.915, 20.69, 19.085, 20.41, 20.075, 21.085, 19.765, 20.635, 21.445, 21.875, 21.335, 20.975, 20.5, 21.87, 23.93, 19.905, 22.08])\n",
    "plt.title(\"mean length of a game during the training\")\n",
    "plt.xlabel(\"epoch\")\n",
    "plt.ylabel(\"length\")\n",
    "plt.show()"
   ]
  },
  {
   "cell_type": "code",
   "execution_count": null,
   "id": "1062007f",
   "metadata": {},
   "outputs": [],
   "source": [
    "# N=3\n",
    "\n",
    "\n",
    "import matplotlib.pyplot as plt\n",
    "# import matplotlib.pyplot as plt\n",
    "# mean_lens = [12.24, 13.665, 14.445, 16.675, 20.415]\n",
    "\n",
    "plt.plot([11.255, 11.115, 11.4, 11.81, 11.505, 11.905, 12.155, 11.72, 12.145, 12.095, 11.965, 11.945, 12.4, 12.115, 12.405, 12.275, 12.35, 12.795, 12.715, 12.755, 12.425, 13.02, 13.355, 13.305, 12.885, 13.505, 13.685, 14.645, 14.0, 13.555, 14.165, 13.66, 14.225, 14.295, 14.2, 14.735, 15.58, 14.92, 15.305, 15.635, 16.105, 14.645, 15.18, 15.95, 15.305, 15.7, 15.095, 16.395, 16.5, 15.475, 15.905, 17.885, 16.665, 16.405, 17.445, 16.98, 16.64, 16.425, 16.095, 16.155, 17.93, 16.62, 17.405, 17.7, 18.065, 17.13, 17.735, 17.955, 18.215, 20.16, 19.21, 20.135, 19.615, 20.13, 19.72, 20.675, 18.775, 19.785, 20.225, 20.055, 20.705, 21.785, 20.85, 21.075, 20.795, 21.325, 21.43, 22.37, 21.31, 22.135, 22.56, 21.76, 23.26, 22.41, 23.895, 21.595, 22.355, 21.755, 21.395, 22.35])\n",
    "plt.title(\"mean length of a game during the training\")\n",
    "plt.xlabel(\"epoch\")\n",
    "plt.ylabel(\"length\")\n",
    "plt.show()"
   ]
  },
  {
   "cell_type": "code",
   "execution_count": null,
   "id": "3fa4d0f2",
   "metadata": {},
   "outputs": [],
   "source": [
    "env = gym.make(\"CartPole-v1\", render_mode=\"human\")\n",
    "\n",
    "for i in range(10):\n",
    "    state, info = env.reset()\n",
    "    rewards = []\n",
    "    for t in count():\n",
    "        action = net.predict(state).item()\n",
    "        print(action)\n",
    "        observation, reward, terminated, truncated, _ = env.step(action)\n",
    "        rewards.append(reward)\n",
    "        env.render()\n",
    "        done = terminated or truncated\n",
    "\n",
    "        if terminated:\n",
    "            next_state = None\n",
    "        else:\n",
    "            next_state = observation\n",
    "\n",
    "        state = next_state\n",
    "\n",
    "        if done:\n",
    "            break\n",
    "    print(sum(rewards))\n",
    "            \n",
    "print(\"Over\")\n",
    "env.close()"
   ]
  },
  {
   "cell_type": "markdown",
   "id": "160cc703",
   "metadata": {},
   "source": [
    "Make it consistent (keep the same N)."
   ]
  }
 ],
 "metadata": {
  "kernelspec": {
   "display_name": "Python 3 (ipykernel)",
   "language": "python",
   "name": "python3"
  },
  "language_info": {
   "codemirror_mode": {
    "name": "ipython",
    "version": 3
   },
   "file_extension": ".py",
   "mimetype": "text/x-python",
   "name": "python",
   "nbconvert_exporter": "python",
   "pygments_lexer": "ipython3",
   "version": "3.9.16"
  }
 },
 "nbformat": 4,
 "nbformat_minor": 5
}
