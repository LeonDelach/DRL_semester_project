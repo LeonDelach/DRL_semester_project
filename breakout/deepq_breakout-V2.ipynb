{
 "cells": [
  {
   "cell_type": "markdown",
   "id": "536027fb",
   "metadata": {},
   "source": [
    "# Deep Q-learning"
   ]
  },
  {
   "cell_type": "code",
   "execution_count": 23,
   "id": "f0fdc1e5",
   "metadata": {},
   "outputs": [],
   "source": [
    "import gymnasium as gym\n",
    "import math\n",
    "import random\n",
    "from collections import namedtuple, deque\n",
    "from itertools import count\n",
    "import torch\n",
    "import torch.nn as nn\n",
    "import torch.optim as optim\n",
    "import numpy as np\n",
    "import matplotlib.pyplot as plt"
   ]
  },
  {
   "cell_type": "markdown",
   "id": "380b32ef",
   "metadata": {},
   "source": [
    "## Environment and device"
   ]
  },
  {
   "cell_type": "code",
   "execution_count": 24,
   "id": "f0520a62",
   "metadata": {},
   "outputs": [],
   "source": [
    "env = gym.make(\"ALE/Breakout-v5\") \n",
    "device = torch.device(\"cuda:1\" if torch.cuda.is_available() else \"cpu\")\n",
    "FIRE = 1"
   ]
  },
  {
   "cell_type": "markdown",
   "id": "ceaf7c59",
   "metadata": {},
   "source": [
    "## Replay buffer"
   ]
  },
  {
   "cell_type": "code",
   "execution_count": 25,
   "id": "88343258",
   "metadata": {},
   "outputs": [],
   "source": [
    "Transition = namedtuple('Transition', ('state', 'action', 'next_state', 'reward'))\n",
    "\n",
    "class ReplayMemory(object):\n",
    "    def __init__(self, capacity):\n",
    "        self.memory = deque([], maxlen=capacity)\n",
    "    def push(self, *args):\n",
    "        self.memory.append(Transition(*args))\n",
    "    def sample(self, batch_size):\n",
    "        return random.sample(self.memory, batch_size)\n",
    "    def __len__(self):\n",
    "        return len(self.memory)"
   ]
  },
  {
   "cell_type": "markdown",
   "id": "f3639b4f",
   "metadata": {},
   "source": [
    "## Neural network"
   ]
  },
  {
   "cell_type": "code",
   "execution_count": 26,
   "id": "f6d96d73",
   "metadata": {},
   "outputs": [],
   "source": [
    "class DQN(nn.Module):\n",
    "    def __init__(self, action_size = 3):\n",
    "        super(DQN, self).__init__() \n",
    "        self.action_size = action_size\n",
    "        self.conv = nn.Sequential(\n",
    "            nn.Conv2d(in_channels = 4, out_channels = 32, kernel_size = 8, stride = 4),\n",
    "            nn.ReLU(),\n",
    "            nn.Conv2d(in_channels = 32, out_channels = 64, kernel_size = 4, stride = 2),\n",
    "            nn.ReLU(),\n",
    "            nn.Conv2d(in_channels = 64, out_channels = 64, kernel_size = 3, stride = 1),\n",
    "            nn.ReLU(),\n",
    "        )\n",
    "        self.dense = nn.Sequential(\n",
    "            nn.Linear(64 * 7 * 7, 512),\n",
    "            nn.ReLU(),\n",
    "            nn.Linear(512, self.action_size)\n",
    "        )\n",
    "    def forward(self, frame):\n",
    "        h = self.conv(frame)\n",
    "        h = h.view(h.shape[0], -1)\n",
    "        return self.dense(h)"
   ]
  },
  {
   "cell_type": "markdown",
   "id": "f8169ad6",
   "metadata": {},
   "source": [
    "## Preprocessing"
   ]
  },
  {
   "cell_type": "code",
   "execution_count": 27,
   "id": "3d8e3ce1",
   "metadata": {},
   "outputs": [
    {
     "data": {
      "image/png": "[encoded data removed]",
      "text/plain": [
       "<Figure size 640x480 with 1 Axes>"
      ]
     },
     "metadata": {},
     "output_type": "display_data"
    }
   ],
   "source": [
    "from skimage.color import rgb2gray\n",
    "from skimage.transform import resize\n",
    "\n",
    "# https://github.com/bchao1/Breakout-Deep-Q-Learning/blob/master/src/train.py\n",
    "def pre_process(observe):\n",
    "    processed_observe = np.uint8(resize(rgb2gray(observe)[31:-14,7:-7], (84, 84), mode='constant') * 255) > 0\n",
    "    return processed_observe\n",
    "\n",
    "state, info = env.reset()\n",
    "obs, rwd, termin, trunc, info = env.step(FIRE)\n",
    "obs, rwd, termin, trunc, info = env.step(FIRE)\n",
    "obs, rwd, termin, trunc, info = env.step(FIRE)\n",
    "\n",
    "\n",
    "plt.imshow(pre_process(obs))\n",
    "plt.show()"
   ]
  },
  {
   "cell_type": "markdown",
   "id": "1169189b",
   "metadata": {},
   "source": [
    "## Parameters for training"
   ]
  },
  {
   "cell_type": "code",
   "execution_count": 28,
   "id": "2f5f67f5",
   "metadata": {},
   "outputs": [],
   "source": [
    "BATCH_SIZE = 128\n",
    "GAMMA = 0.99\n",
    "EPS_START = 0.9\n",
    "EPS_END = 0.05\n",
    "EPS_DECAY = 1000\n",
    "TAU = 0.005\n",
    "LR = 1e-4   # to decrease"
   ]
  },
  {
   "cell_type": "markdown",
   "id": "04facbbb",
   "metadata": {},
   "source": [
    "## Variables initialization"
   ]
  },
  {
   "cell_type": "code",
   "execution_count": 29,
   "id": "5ea28b2e",
   "metadata": {},
   "outputs": [],
   "source": [
    "main_net = DQN().to(device)\n",
    "target_net = DQN().to(device)\n",
    "target_net.load_state_dict(main_net.state_dict())\n",
    "\n",
    "optimizer = optim.AdamW(main_net.parameters(), lr=LR, amsgrad=True)\n",
    "memory = ReplayMemory(10000)"
   ]
  },
  {
   "cell_type": "markdown",
   "id": "211f38e6",
   "metadata": {},
   "source": [
    "## Select action with epsilon-greedy policy"
   ]
  },
  {
   "cell_type": "code",
   "execution_count": 30,
   "id": "157f8be6",
   "metadata": {},
   "outputs": [],
   "source": [
    "steps_done = 0\n",
    "def update_epsilon():\n",
    "    eps_threshold = EPS_END + (EPS_START - EPS_END) * math.exp(-1. * steps_done / EPS_DECAY)\n",
    "    return eps_threshold\n",
    "\n",
    "def select_action(state, eps_threshold):\n",
    "    global steps_done\n",
    "    sample = random.random()\n",
    "    steps_done += 1\n",
    "    # epsilon-greedy\n",
    "    if sample > eps_threshold:\n",
    "        with torch.no_grad():\n",
    "            return torch.argmax(main_net(state)).view(1, 1)\n",
    "    else:\n",
    "        # print(torch.randint(0, 3, size=(1,1), device=device))\n",
    "        return torch.randint(0, 3, size=(1,1), device=device)"
   ]
  },
  {
   "cell_type": "markdown",
   "id": "9d0eac4a",
   "metadata": {},
   "source": [
    "## One step optimization"
   ]
  },
  {
   "cell_type": "code",
   "execution_count": 31,
   "id": "5d0f6d22",
   "metadata": {},
   "outputs": [],
   "source": [
    "def optimize_model():\n",
    "    if len(memory) < BATCH_SIZE:\n",
    "        return\n",
    "    transitions = memory.sample(BATCH_SIZE)\n",
    "    batch = Transition(*zip(*transitions))\n",
    "\n",
    "    non_final_mask = torch.tensor(tuple(map(lambda s: s is not None, batch.next_state)), device=device, dtype=torch.bool)\n",
    "    non_final_next_states = torch.cat([s for s in batch.next_state if s is not None])\n",
    "    \n",
    "    state_batch = torch.cat(batch.state)\n",
    "    action_batch = torch.cat(batch.action)\n",
    "    reward_batch = torch.cat(batch.reward)\n",
    "    \n",
    "    # print(action_batch.shape)\n",
    "    q_values = main_net(state_batch).gather(1, action_batch)\n",
    "\n",
    "    next_state_values = torch.zeros(BATCH_SIZE, device=device)\n",
    "    # using target_net to improve stability because V(s') = max Q(s', a') that is used in the update rule\n",
    "    with torch.no_grad():\n",
    "        next_state_values[non_final_mask] = target_net(non_final_next_states).max(1)[0]\n",
    "        expected_q_values = (next_state_values * GAMMA) + reward_batch\n",
    "\n",
    "    loss = nn.SmoothL1Loss()(q_values, expected_q_values.unsqueeze(1))\n",
    "    optimizer.zero_grad()\n",
    "    loss.backward()\n",
    "    torch.nn.utils.clip_grad_value_(main_net.parameters(), 100)\n",
    "    optimizer.step()"
   ]
  },
  {
   "cell_type": "code",
   "execution_count": 32,
   "id": "fe0931ca",
   "metadata": {},
   "outputs": [],
   "source": [
    "if torch.cuda.is_available():\n",
    "    num_episodes = 600\n",
    "else:\n",
    "    num_episodes = 4"
   ]
  },
  {
   "cell_type": "markdown",
   "id": "6ee41af9",
   "metadata": {},
   "source": [
    "## Training"
   ]
  },
  {
   "cell_type": "code",
   "execution_count": 33,
   "id": "fa1b4c16",
   "metadata": {},
   "outputs": [],
   "source": [
    "def soft_update():\n",
    "    # Soft update of the target network's weights\n",
    "    # θ′ ← τ θ + (1 −τ )θ′\n",
    "    target_net_state_dict = target_net.state_dict()\n",
    "    main_net_state_dict = main_net.state_dict()\n",
    "    for key in main_net_state_dict:\n",
    "        target_net_state_dict[key] = main_net_state_dict[key]*TAU + target_net_state_dict[key]*(1-TAU)\n",
    "    target_net.load_state_dict(target_net_state_dict)"
   ]
  },
  {
   "cell_type": "code",
   "execution_count": 34,
   "id": "45d70de3",
   "metadata": {},
   "outputs": [],
   "source": [
    "def real_action(action):\n",
    "    if action == 0:\n",
    "        return 0\n",
    "    elif action == 1:\n",
    "        return 2\n",
    "    else:\n",
    "        return 3"
   ]
  },
  {
   "cell_type": "code",
   "execution_count": 35,
   "id": "467a8ab7",
   "metadata": {},
   "outputs": [
    {
     "name": "stdout",
     "output_type": "stream",
     "text": [
      "Complete\n"
     ]
    },
    {
     "data": {
      "image/png": "[encoded data removed]",
      "text/plain": [
       "<Figure size 640x480 with 1 Axes>"
      ]
     },
     "metadata": {},
     "output_type": "display_data"
    }
   ],
   "source": [
    "def hist_input(history):\n",
    "    if history is not None:\n",
    "        return torch.tensor(history / 255.0, dtype = torch.float, device=device)\n",
    "    else:\n",
    "        return history\n",
    "\n",
    "training_rewards = []\n",
    "for i_episode in range(num_episodes):\n",
    "    state, info = env.reset()\n",
    "    obs, rwd, termin, trunc, info = env.step(FIRE)\n",
    "    \n",
    "    history = np.stack((pre_process(obs), pre_process(obs), pre_process(obs), pre_process(obs)))\n",
    "    history = np.expand_dims(history, axis = 0)\n",
    "    \n",
    "    episode_rewards = []\n",
    "    for t in count():\n",
    "        action = select_action(hist_input(history), update_epsilon())\n",
    "        obs, rwd, termin, trunc, new_info = env.step(real_action(action.item()))\n",
    "        episode_rewards.append(rwd)\n",
    "        reward = torch.tensor([rwd], device=device)\n",
    "        done = termin or trunc\n",
    "        if termin:\n",
    "            next_history = None\n",
    "        else:\n",
    "            next_state = pre_process(obs)\n",
    "            next_state = np.reshape([next_state], (1, 1, 84, 84))\n",
    "            next_history = np.append(next_state, history[:, :3, :, :], axis = 1)\n",
    "            \n",
    "        memory.push(hist_input(history), action, hist_input(next_history), reward)\n",
    "        history = next_history\n",
    "        optimize_model()\n",
    "        soft_update()\n",
    "        \n",
    "        if done:\n",
    "            break \n",
    "        elif new_info['lives'] != info['lives']:\n",
    "            obs, rwd, termin, trunc, info = env.step(FIRE)\n",
    "        else:\n",
    "            info = new_info     \n",
    "    training_rewards.append(sum(episode_rewards))\n",
    "\n",
    "plt.plot(training_rewards)\n",
    "plt.savefig(\"rewards.png\") \n",
    "print('Complete')"
   ]
  },
  {
   "cell_type": "markdown",
   "id": "34f93c90",
   "metadata": {},
   "source": [
    "## Test one game"
   ]
  },
  {
   "cell_type": "code",
   "execution_count": 14,
   "id": "90eeb9fc",
   "metadata": {},
   "outputs": [
    {
     "name": "stderr",
     "output_type": "stream",
     "text": [
      "C:\\Users\\leond\\anaconda3\\envs\\semester\\lib\\site-packages\\gymnasium\\wrappers\\record_video.py:79: UserWarning: \u001b[33mWARN: Overwriting existing videos at C:\\Users\\leond\\DRL_project\\videos folder (try specifying a different `video_folder` for the `RecordVideo` wrapper if this is not desired)\u001b[0m\n",
      "  logger.warn(\n",
      "C:\\Users\\leond\\anaconda3\\envs\\semester\\lib\\site-packages\\gymnasium\\utils\\passive_env_checker.py:357: UserWarning: \u001b[33mWARN: No render fps was declared in the environment (env.metadata['render_fps'] is None or not defined), rendering may occur at inconsistent fps.\u001b[0m\n",
      "  logger.warn(\n"
     ]
    },
    {
     "name": "stdout",
     "output_type": "stream",
     "text": [
      "Moviepy - Building video C:\\Users\\leond\\DRL_project\\videos\\rl-video-episode-0.mp4.\n",
      "Moviepy - Writing video C:\\Users\\leond\\DRL_project\\videos\\rl-video-episode-0.mp4\n",
      "\n"
     ]
    },
    {
     "name": "stderr",
     "output_type": "stream",
     "text": [
      "                                                                                                                       "
     ]
    },
    {
     "name": "stdout",
     "output_type": "stream",
     "text": [
      "Moviepy - Done !\n",
      "Moviepy - video ready C:\\Users\\leond\\DRL_project\\videos\\rl-video-episode-0.mp4\n"
     ]
    },
    {
     "name": "stderr",
     "output_type": "stream",
     "text": [
      "\r"
     ]
    },
    {
     "name": "stdout",
     "output_type": "stream",
     "text": [
      "Moviepy - Building video C:\\Users\\leond\\DRL_project\\videos\\rl-video-episode-0.mp4.\n",
      "Moviepy - Writing video C:\\Users\\leond\\DRL_project\\videos\\rl-video-episode-0.mp4\n",
      "\n"
     ]
    },
    {
     "name": "stderr",
     "output_type": "stream",
     "text": [
      "                                                                                                                       "
     ]
    },
    {
     "name": "stdout",
     "output_type": "stream",
     "text": [
      "Moviepy - Done !\n",
      "Moviepy - video ready C:\\Users\\leond\\DRL_project\\videos\\rl-video-episode-0.mp4\n",
      "Complete\n"
     ]
    },
    {
     "name": "stderr",
     "output_type": "stream",
     "text": [
      "\r"
     ]
    }
   ],
   "source": [
    "env = gym.wrappers.RecordVideo(gym.make(\"ALE/Breakout-v5\", render_mode='rgb_array'), \"videos\")\n",
    "state, info = env.reset()\n",
    "env.start_video_recorder()\n",
    "obs, rwd, termin, trunc, info = env.step(FIRE)\n",
    "    \n",
    "history = np.stack((pre_process(obs), pre_process(obs), pre_process(obs), pre_process(obs)))\n",
    "history = np.expand_dims(history, axis = 0)\n",
    "\n",
    "for t in count():\n",
    "    action = select_action(hist_input(history), 0)\n",
    "    obs, rwd, termin, trunc, new_info = env.step(real_action(action.item()))\n",
    "    done = termin or trunc\n",
    "    if termin:\n",
    "        next_history = None\n",
    "    else:\n",
    "        next_state = pre_process(obs)\n",
    "        next_state = np.reshape([next_state], (1, 1, 84, 84))\n",
    "        next_history = np.append(next_state, history[:, :3, :, :], axis = 1)\n",
    "\n",
    "    history = next_history\n",
    "\n",
    "    if done:\n",
    "        break \n",
    "    elif new_info['lives'] != info['lives']:\n",
    "        obs, rwd, termin, trunc, info = env.step(FIRE)\n",
    "    else:\n",
    "        info = new_info     \n",
    "\n",
    "print('Complete')"
   ]
  },
  {
   "cell_type": "code",
   "execution_count": null,
   "id": "00098870",
   "metadata": {},
   "outputs": [],
   "source": [
    "main_net.load_weights(\"./models/model.ckpt\")"
   ]
  }
 ],
 "metadata": {
  "kernelspec": {
   "display_name": "Python 3 (ipykernel)",
   "language": "python",
   "name": "python3"
  },
  "language_info": {
   "codemirror_mode": {
    "name": "ipython",
    "version": 3
   },
   "file_extension": ".py",
   "mimetype": "text/x-python",
   "name": "python",
   "nbconvert_exporter": "python",
   "pygments_lexer": "ipython3",
   "version": "3.9.16"
  }
 },
 "nbformat": 4,
 "nbformat_minor": 5
}
