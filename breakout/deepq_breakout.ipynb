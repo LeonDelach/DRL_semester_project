{
 "cells": [
  {
   "cell_type": "markdown",
   "id": "536027fb",
   "metadata": {},
   "source": [
    "# Deep Q-learning"
   ]
  },
  {
   "cell_type": "code",
   "execution_count": 1,
   "id": "f0fdc1e5",
   "metadata": {},
   "outputs": [],
   "source": [
    "import gymnasium as gym\n",
    "import math\n",
    "import random\n",
    "from collections import namedtuple, deque\n",
    "from itertools import count\n",
    "\n",
    "import torch\n",
    "import torch.nn as nn\n",
    "import torch.optim as optim\n",
    "import torch.nn.functional as F\n",
    "\n",
    "import numpy as np\n",
    "import matplotlib.pyplot as plt"
   ]
  },
  {
   "cell_type": "markdown",
   "id": "380b32ef",
   "metadata": {},
   "source": [
    "## Environment and device"
   ]
  },
  {
   "cell_type": "code",
   "execution_count": 2,
   "id": "f0520a62",
   "metadata": {},
   "outputs": [],
   "source": [
    "env = gym.make(\"ALE/Breakout-v5\")  # render_mode=\"human\"\n",
    "device = torch.device(\"cuda:1\" if torch.cuda.is_available() else \"cpu\") #cuda:1  ?\n",
    "\n",
    "FIRE=1    # because it is breakout"
   ]
  },
  {
   "cell_type": "markdown",
   "id": "ceaf7c59",
   "metadata": {},
   "source": [
    "## Replay buffer"
   ]
  },
  {
   "cell_type": "code",
   "execution_count": 3,
   "id": "88343258",
   "metadata": {},
   "outputs": [],
   "source": [
    "Transition = namedtuple('Transition', ('state', 'action', 'next_state', 'reward'))\n",
    "\n",
    "class ReplayMemory(object):\n",
    "    def __init__(self, capacity):\n",
    "        self.memory = deque([], maxlen=capacity)\n",
    "    def push(self, *args):\n",
    "        self.memory.append(Transition(*args))\n",
    "    def sample(self, batch_size):\n",
    "        return random.sample(self.memory, batch_size)\n",
    "    def __len__(self):\n",
    "        return len(self.memory)"
   ]
  },
  {
   "cell_type": "markdown",
   "id": "f3639b4f",
   "metadata": {},
   "source": [
    "## Neural network"
   ]
  },
  {
   "cell_type": "code",
   "execution_count": 4,
   "id": "f6d96d73",
   "metadata": {},
   "outputs": [],
   "source": [
    "class DQN(nn.Module):\n",
    "    def __init__(self, dim_x, dim_y, n_actions):\n",
    "        super(DQN, self).__init__()\n",
    "        self.conv1 = torch.nn.Conv2d(2, 18, kernel_size = 3, stride = 1, padding = 1)\n",
    "        # self.pool = torch.nn.MaxPool2d(kernel_size = 2, stride = 2, padding = 0)\n",
    "        self.fc1 = torch.nn.Linear(18 * dim_x * dim_y, 64)\n",
    "        self.fc2 = torch.nn.Linear(64, n_actions-1)    # for breakout we do not need to select the FIRE action\n",
    "    def forward(self, x):\n",
    "        x = F.relu(self.conv1(x))\n",
    "        # x = self.pool(x)\n",
    "        x = torch.flatten(x, start_dim=1)  # start_dim=1 because we want to process batches as well as single elements\n",
    "        x = F.relu(self.fc1(x))\n",
    "        x = self.fc2(x)\n",
    "        return x"
   ]
  },
  {
   "cell_type": "markdown",
   "id": "f8169ad6",
   "metadata": {},
   "source": [
    "## Preprocessing"
   ]
  },
  {
   "cell_type": "code",
   "execution_count": 5,
   "id": "f6b720df",
   "metadata": {},
   "outputs": [
    {
     "name": "stdout",
     "output_type": "stream",
     "text": [
      "{'lives': 5, 'episode_frame_number': 0, 'frame_number': 0}\n",
      "(210, 160, 3)\n",
      "(170, 150)\n"
     ]
    },
    {
     "data": {
      "image/png": "[encoded data removed]",
      "text/plain": [
       "<Figure size 640x480 with 1 Axes>"
      ]
     },
     "metadata": {},
     "output_type": "display_data"
    }
   ],
   "source": [
    "state, info = env.reset()\n",
    "\n",
    "print(info)\n",
    "def preprocess(state):\n",
    "    gray_state = np.apply_along_axis(lambda x: int(np.sum(x) > 0), 2, state)\n",
    "    crop_state = gray_state[25:-15,5:-5]\n",
    "    return crop_state\n",
    "\n",
    "print(state.shape) \n",
    "prp = preprocess(state)\n",
    "print(prp.shape)\n",
    "plt.imshow(prp)\n",
    "plt.show()"
   ]
  },
  {
   "cell_type": "code",
   "execution_count": 6,
   "id": "3d8e3ce1",
   "metadata": {},
   "outputs": [],
   "source": [
    "def pre_processing(observe):\n",
    "    processed_observe = np.uint8(\n",
    "        resize(rgb2gray(observe), (84, 84), mode='constant') * 255)\n",
    "    return processed_observe"
   ]
  },
  {
   "cell_type": "markdown",
   "id": "1169189b",
   "metadata": {},
   "source": [
    "## Parameters for training"
   ]
  },
  {
   "cell_type": "code",
   "execution_count": 7,
   "id": "2f5f67f5",
   "metadata": {},
   "outputs": [],
   "source": [
    "BATCH_SIZE = 128\n",
    "GAMMA = 0.99\n",
    "EPS_START = 0.9\n",
    "EPS_END = 0.05\n",
    "EPS_DECAY = 1000\n",
    "TAU = 0.005\n",
    "LR = 1e-4   # to decrease"
   ]
  },
  {
   "cell_type": "markdown",
   "id": "04facbbb",
   "metadata": {},
   "source": [
    "## Variables initialization"
   ]
  },
  {
   "cell_type": "code",
   "execution_count": 8,
   "id": "5ea28b2e",
   "metadata": {},
   "outputs": [],
   "source": [
    "n_actions = env.action_space.n\n",
    "state, info = env.reset()\n",
    "prp = preprocess(state)\n",
    "obs_x = prp.shape[0]\n",
    "obs_y = prp.shape[1]\n",
    "\n",
    "policy_net = DQN(obs_x, obs_y, n_actions).to(device)\n",
    "target_net = DQN(obs_x, obs_y, n_actions).to(device)\n",
    "target_net.load_state_dict(policy_net.state_dict())\n",
    "\n",
    "optimizer = optim.AdamW(policy_net.parameters(), lr=LR, amsgrad=True)\n",
    "memory = ReplayMemory(10000)"
   ]
  },
  {
   "cell_type": "markdown",
   "id": "211f38e6",
   "metadata": {},
   "source": [
    "## Select action with epsilon-greedy policy"
   ]
  },
  {
   "cell_type": "code",
   "execution_count": 9,
   "id": "157f8be6",
   "metadata": {},
   "outputs": [],
   "source": [
    "steps_done = 0\n",
    "def update_epsilon():\n",
    "    eps_threshold = EPS_END + (EPS_START - EPS_END) * math.exp(-1. * steps_done / EPS_DECAY)\n",
    "    return eps_threshold\n",
    "\n",
    "def select_action(state, eps_threshold):\n",
    "    global steps_done\n",
    "    sample = random.random()\n",
    "    steps_done += 1\n",
    "    # epsilon-greedy\n",
    "    if sample > eps_threshold:\n",
    "        with torch.no_grad():\n",
    "            return torch.argmax(policy_net(state)).view(1, 1)\n",
    "    else:\n",
    "        return torch.tensor([[env.action_space.sample()]], device=device, dtype=torch.long)"
   ]
  },
  {
   "cell_type": "markdown",
   "id": "9d0eac4a",
   "metadata": {},
   "source": [
    "## One step optimization"
   ]
  },
  {
   "cell_type": "code",
   "execution_count": 10,
   "id": "5d0f6d22",
   "metadata": {},
   "outputs": [],
   "source": [
    "def optimize_model():\n",
    "    if len(memory) < BATCH_SIZE:\n",
    "        return\n",
    "    transitions = memory.sample(BATCH_SIZE)\n",
    "    batch = Transition(*zip(*transitions))\n",
    "\n",
    "    non_final_mask = torch.tensor(tuple(map(lambda s: s is not None, batch.next_state)), device=device, dtype=torch.bool)\n",
    "    non_final_next_states = torch.cat([s for s in batch.next_state if s is not None])\n",
    "    \n",
    "    state_batch = torch.cat(batch.state)\n",
    "    action_batch = torch.cat(batch.action)\n",
    "    reward_batch = torch.cat(batch.reward)\n",
    "    \n",
    "    print(policy_net(state_batch).shape)\n",
    "    print(action_batch.shape)\n",
    "    state_action_values = policy_net(state_batch).gather(1, action_batch)\n",
    "\n",
    "    next_state_values = torch.zeros(BATCH_SIZE, device=device)\n",
    "    # using target_net to improve stability because V(s') = max Q(s', a') that is used in the update rule\n",
    "    with torch.no_grad():\n",
    "        next_state_values[non_final_mask] = target_net(non_final_next_states).max(1)[0]\n",
    "    expected_state_action_values = (next_state_values * GAMMA) + reward_batch\n",
    "\n",
    "    loss = nn.SmoothL1Loss()(state_action_values, expected_state_action_values.unsqueeze(1))\n",
    "\n",
    "    optimizer.zero_grad()\n",
    "    loss.backward()\n",
    "    torch.nn.utils.clip_grad_value_(policy_net.parameters(), 100)\n",
    "    optimizer.step()"
   ]
  },
  {
   "cell_type": "code",
   "execution_count": 11,
   "id": "fe0931ca",
   "metadata": {},
   "outputs": [],
   "source": [
    "if torch.cuda.is_available():\n",
    "    num_episodes = 600\n",
    "else:\n",
    "    num_episodes = 4"
   ]
  },
  {
   "cell_type": "markdown",
   "id": "6ee41af9",
   "metadata": {},
   "source": [
    "## Training"
   ]
  },
  {
   "cell_type": "code",
   "execution_count": 12,
   "id": "fa1b4c16",
   "metadata": {},
   "outputs": [],
   "source": [
    "def soft_update():\n",
    "    # Soft update of the target network's weights\n",
    "    # θ′ ← τ θ + (1 −τ )θ′\n",
    "    target_net_state_dict = target_net.state_dict()\n",
    "    policy_net_state_dict = policy_net.state_dict()\n",
    "    for key in policy_net_state_dict:\n",
    "        target_net_state_dict[key] = policy_net_state_dict[key]*TAU + target_net_state_dict[key]*(1-TAU)\n",
    "    target_net.load_state_dict(target_net_state_dict)"
   ]
  },
  {
   "cell_type": "code",
   "execution_count": 13,
   "id": "467a8ab7",
   "metadata": {},
   "outputs": [
    {
     "name": "stdout",
     "output_type": "stream",
     "text": [
      "torch.Size([128, 3])\n",
      "torch.Size([128, 1])\n",
      "torch.Size([128, 3])\n",
      "torch.Size([128, 1])\n",
      "torch.Size([128, 3])\n",
      "torch.Size([128, 1])\n",
      "torch.Size([128, 3])\n",
      "torch.Size([128, 1])\n",
      "torch.Size([128, 3])\n",
      "torch.Size([128, 1])\n",
      "torch.Size([128, 3])\n",
      "torch.Size([128, 1])\n",
      "torch.Size([128, 3])\n",
      "torch.Size([128, 1])\n",
      "torch.Size([128, 3])\n",
      "torch.Size([128, 1])\n",
      "torch.Size([128, 3])\n",
      "torch.Size([128, 1])\n",
      "torch.Size([128, 3])\n",
      "torch.Size([128, 1])\n",
      "torch.Size([128, 3])\n",
      "torch.Size([128, 1])\n",
      "torch.Size([128, 3])\n",
      "torch.Size([128, 1])\n",
      "torch.Size([128, 3])\n",
      "torch.Size([128, 1])\n",
      "torch.Size([128, 3])\n",
      "torch.Size([128, 1])\n",
      "torch.Size([128, 3])\n",
      "torch.Size([128, 1])\n",
      "torch.Size([128, 3])\n",
      "torch.Size([128, 1])\n",
      "torch.Size([128, 3])\n",
      "torch.Size([128, 1])\n"
     ]
    },
    {
     "ename": "KeyboardInterrupt",
     "evalue": "",
     "output_type": "error",
     "traceback": [
      "\u001b[1;31m---------------------------------------------------------------------------\u001b[0m",
      "\u001b[1;31mKeyboardInterrupt\u001b[0m                         Traceback (most recent call last)",
      "Cell \u001b[1;32mIn[13], line 28\u001b[0m\n\u001b[0;32m     26\u001b[0m memory\u001b[38;5;241m.\u001b[39mpush(in_dqn, action, next_state, reward)\n\u001b[0;32m     27\u001b[0m in_dqn \u001b[38;5;241m=\u001b[39m next_state\n\u001b[1;32m---> 28\u001b[0m \u001b[43moptimize_model\u001b[49m\u001b[43m(\u001b[49m\u001b[43m)\u001b[49m\n\u001b[0;32m     29\u001b[0m soft_update()\n\u001b[0;32m     30\u001b[0m \u001b[38;5;28;01mif\u001b[39;00m done:\n",
      "Cell \u001b[1;32mIn[10], line 27\u001b[0m, in \u001b[0;36moptimize_model\u001b[1;34m()\u001b[0m\n\u001b[0;32m     24\u001b[0m loss \u001b[38;5;241m=\u001b[39m nn\u001b[38;5;241m.\u001b[39mSmoothL1Loss()(state_action_values, expected_state_action_values\u001b[38;5;241m.\u001b[39munsqueeze(\u001b[38;5;241m1\u001b[39m))\n\u001b[0;32m     26\u001b[0m optimizer\u001b[38;5;241m.\u001b[39mzero_grad()\n\u001b[1;32m---> 27\u001b[0m \u001b[43mloss\u001b[49m\u001b[38;5;241;43m.\u001b[39;49m\u001b[43mbackward\u001b[49m\u001b[43m(\u001b[49m\u001b[43m)\u001b[49m\n\u001b[0;32m     28\u001b[0m torch\u001b[38;5;241m.\u001b[39mnn\u001b[38;5;241m.\u001b[39mutils\u001b[38;5;241m.\u001b[39mclip_grad_value_(policy_net\u001b[38;5;241m.\u001b[39mparameters(), \u001b[38;5;241m100\u001b[39m)\n\u001b[0;32m     29\u001b[0m optimizer\u001b[38;5;241m.\u001b[39mstep()\n",
      "File \u001b[1;32m~\\anaconda3\\envs\\semester\\lib\\site-packages\\torch\\_tensor.py:488\u001b[0m, in \u001b[0;36mTensor.backward\u001b[1;34m(self, gradient, retain_graph, create_graph, inputs)\u001b[0m\n\u001b[0;32m    478\u001b[0m \u001b[38;5;28;01mif\u001b[39;00m has_torch_function_unary(\u001b[38;5;28mself\u001b[39m):\n\u001b[0;32m    479\u001b[0m     \u001b[38;5;28;01mreturn\u001b[39;00m handle_torch_function(\n\u001b[0;32m    480\u001b[0m         Tensor\u001b[38;5;241m.\u001b[39mbackward,\n\u001b[0;32m    481\u001b[0m         (\u001b[38;5;28mself\u001b[39m,),\n\u001b[1;32m   (...)\u001b[0m\n\u001b[0;32m    486\u001b[0m         inputs\u001b[38;5;241m=\u001b[39minputs,\n\u001b[0;32m    487\u001b[0m     )\n\u001b[1;32m--> 488\u001b[0m \u001b[43mtorch\u001b[49m\u001b[38;5;241;43m.\u001b[39;49m\u001b[43mautograd\u001b[49m\u001b[38;5;241;43m.\u001b[39;49m\u001b[43mbackward\u001b[49m\u001b[43m(\u001b[49m\n\u001b[0;32m    489\u001b[0m \u001b[43m    \u001b[49m\u001b[38;5;28;43mself\u001b[39;49m\u001b[43m,\u001b[49m\u001b[43m \u001b[49m\u001b[43mgradient\u001b[49m\u001b[43m,\u001b[49m\u001b[43m \u001b[49m\u001b[43mretain_graph\u001b[49m\u001b[43m,\u001b[49m\u001b[43m \u001b[49m\u001b[43mcreate_graph\u001b[49m\u001b[43m,\u001b[49m\u001b[43m \u001b[49m\u001b[43minputs\u001b[49m\u001b[38;5;241;43m=\u001b[39;49m\u001b[43minputs\u001b[49m\n\u001b[0;32m    490\u001b[0m \u001b[43m\u001b[49m\u001b[43m)\u001b[49m\n",
      "File \u001b[1;32m~\\anaconda3\\envs\\semester\\lib\\site-packages\\torch\\autograd\\__init__.py:197\u001b[0m, in \u001b[0;36mbackward\u001b[1;34m(tensors, grad_tensors, retain_graph, create_graph, grad_variables, inputs)\u001b[0m\n\u001b[0;32m    192\u001b[0m     retain_graph \u001b[38;5;241m=\u001b[39m create_graph\n\u001b[0;32m    194\u001b[0m \u001b[38;5;66;03m# The reason we repeat same the comment below is that\u001b[39;00m\n\u001b[0;32m    195\u001b[0m \u001b[38;5;66;03m# some Python versions print out the first line of a multi-line function\u001b[39;00m\n\u001b[0;32m    196\u001b[0m \u001b[38;5;66;03m# calls in the traceback and some print out the last line\u001b[39;00m\n\u001b[1;32m--> 197\u001b[0m \u001b[43mVariable\u001b[49m\u001b[38;5;241;43m.\u001b[39;49m\u001b[43m_execution_engine\u001b[49m\u001b[38;5;241;43m.\u001b[39;49m\u001b[43mrun_backward\u001b[49m\u001b[43m(\u001b[49m\u001b[43m  \u001b[49m\u001b[38;5;66;43;03m# Calls into the C++ engine to run the backward pass\u001b[39;49;00m\n\u001b[0;32m    198\u001b[0m \u001b[43m    \u001b[49m\u001b[43mtensors\u001b[49m\u001b[43m,\u001b[49m\u001b[43m \u001b[49m\u001b[43mgrad_tensors_\u001b[49m\u001b[43m,\u001b[49m\u001b[43m \u001b[49m\u001b[43mretain_graph\u001b[49m\u001b[43m,\u001b[49m\u001b[43m \u001b[49m\u001b[43mcreate_graph\u001b[49m\u001b[43m,\u001b[49m\u001b[43m \u001b[49m\u001b[43minputs\u001b[49m\u001b[43m,\u001b[49m\n\u001b[0;32m    199\u001b[0m \u001b[43m    \u001b[49m\u001b[43mallow_unreachable\u001b[49m\u001b[38;5;241;43m=\u001b[39;49m\u001b[38;5;28;43;01mTrue\u001b[39;49;00m\u001b[43m,\u001b[49m\u001b[43m \u001b[49m\u001b[43maccumulate_grad\u001b[49m\u001b[38;5;241;43m=\u001b[39;49m\u001b[38;5;28;43;01mTrue\u001b[39;49;00m\u001b[43m)\u001b[49m\n",
      "\u001b[1;31mKeyboardInterrupt\u001b[0m: "
     ]
    }
   ],
   "source": [
    "rewards = []\n",
    "for i_episode in range(num_episodes):\n",
    "    state, info = env.reset()\n",
    "    obs, rwd, termin, trunc, info = env.step(FIRE)\n",
    "    frame = np.array([preprocess(state), preprocess(obs)])\n",
    "    in_dqn = torch.tensor(frame, dtype=torch.float32, device=device).unsqueeze(0)\n",
    "    rewards_all = []\n",
    "    for t in count():\n",
    "        action = select_action(in_dqn, update_epsilon())\n",
    "        while action >= 3:\n",
    "            action -= 1\n",
    "        if action >= FIRE:\n",
    "            action += 1\n",
    "        obs, rwd, termin, trunc, new_info = env.step(action.item())\n",
    "        rewards_all.append(rwd)\n",
    "        reward = torch.tensor([rwd], device=device)\n",
    "        done = termin or trunc\n",
    "        if termin:\n",
    "            next_state = None\n",
    "        else:\n",
    "            frame[0] = frame[1]\n",
    "            frame[1] = preprocess(obs)\n",
    "            next_state = torch.tensor(frame, dtype=torch.float32, device=device).unsqueeze(0)\n",
    "        if action >= FIRE:\n",
    "            action -= 1\n",
    "        memory.push(in_dqn, action, next_state, reward)\n",
    "        in_dqn = next_state\n",
    "        optimize_model()\n",
    "        soft_update()\n",
    "        if done:\n",
    "            break \n",
    "        if new_info['lives'] != info['lives']:\n",
    "            obs, rwd, termin, trunc, info = env.step(FIRE)\n",
    "        else:\n",
    "            info = new_info\n",
    "    rewards.append(sum(rewards_all))\n",
    "plt.plot(rewards)\n",
    "plt.savefig(\"rewards.png\") \n",
    "print('Complete')"
   ]
  },
  {
   "cell_type": "markdown",
   "id": "34f93c90",
   "metadata": {},
   "source": [
    "## Test one game"
   ]
  },
  {
   "cell_type": "code",
   "execution_count": null,
   "id": "90eeb9fc",
   "metadata": {},
   "outputs": [],
   "source": [
    "env = gym.wrappers.RecordVideo(gym.make(\"ALE/Breakout-v5\", render_mode='rgb_array'), \"videos\")\n",
    "state, info = env.reset()\n",
    "env.start_video_recorder()\n",
    "obs, rwd, termin, trunc, info = env.step(FIRE)\n",
    "frame = np.array([preprocess(state), preprocess(obs)])\n",
    "     \n",
    "for t in count():\n",
    "    in_dqn = torch.tensor(frame, dtype=torch.float32, device=device).unsqueeze(0)\n",
    "    action = select_action(in_dqn, 0) # we play greedy\n",
    "    print(action)\n",
    "    while action >= 3:\n",
    "        action -= 1\n",
    "    if action >= FIRE:\n",
    "        action += 1\n",
    "\n",
    "    obs, rwd, termin, trunc, new_info = env.step(action.item())\n",
    "    done = termin or trunc\n",
    "    \n",
    "    if termin:\n",
    "        next_state = None\n",
    "    else:\n",
    "        frame[0] = frame[1]\n",
    "        frame[1] = preprocess(obs)\n",
    "        next_state = torch.tensor(frame, dtype=torch.float32, device=device).unsqueeze(0)\n",
    "\n",
    "    if action >= FIRE:\n",
    "        action -= 1\n",
    "    in_dqn = next_state\n",
    "    if done:\n",
    "        break\n",
    "\n",
    "    if new_info['lives'] != info['lives']:\n",
    "        obs, rwd, termin, trunc, info = env.step(FIRE)\n",
    "    else:\n",
    "        info = new_info\n",
    "    # print(\"Hello\")\n",
    "env.close()"
   ]
  },
  {
   "cell_type": "code",
   "execution_count": null,
   "id": "69500fa4",
   "metadata": {},
   "outputs": [],
   "source": [
    "'''\n",
    "import gymnasium as gym\n",
    "\n",
    "env = gym.make('ALE/Breakout-v5', render_mode='rgb_array')\n",
    "video_folder = '/videos'\n",
    "episode_trigger = lambda episode_id: episode_id == 0  # start recording at episode 0\n",
    "env = gym.wrappers.RecordVideo(env, video_folder, episode_trigger=episode_trigger)\n",
    "\n",
    "obs = env.reset()\n",
    "done = False\n",
    "while not done:\n",
    "    action = env.action_space.sample()  # replace with your own action selection logic\n",
    "    obs, reward, terminated, truncated, info = env.step(action)\n",
    "    done = terminated or truncated\n",
    "    \n",
    "env.close()\n",
    "'''"
   ]
  },
  {
   "cell_type": "code",
   "execution_count": null,
   "id": "769de14f",
   "metadata": {},
   "outputs": [],
   "source": [
    "# print(env.metadata['render_fps'])"
   ]
  },
  {
   "cell_type": "code",
   "execution_count": null,
   "id": "8af8cfe4",
   "metadata": {},
   "outputs": [],
   "source": [
    "# print(env.video_recorder)"
   ]
  },
  {
   "cell_type": "code",
   "execution_count": null,
   "id": "7ee36a13",
   "metadata": {},
   "outputs": [],
   "source": [
    "# !pip install moviepy"
   ]
  },
  {
   "cell_type": "code",
   "execution_count": null,
   "id": "bcab28bc",
   "metadata": {},
   "outputs": [],
   "source": [
    "def plot_durations(show_result=False):\n",
    "    plt.figure(1)\n",
    "    durations_t = torch.tensor(episode_durations, dtype=torch.float)\n",
    "    if show_result:\n",
    "        plt.title('Result')\n",
    "    else:\n",
    "        plt.clf()\n",
    "        plt.title('Training...')\n",
    "    plt.xlabel('Episode')\n",
    "    plt.ylabel('Duration')\n",
    "    plt.plot(durations_t.numpy())\n",
    "    # Take 100 episode averages and plot them too\n",
    "    if len(durations_t) >= 100:\n",
    "        means = durations_t.unfold(0, 100, 1).mean(1).view(-1)\n",
    "        means = torch.cat((torch.zeros(99), means))\n",
    "        plt.plot(means.numpy())\n",
    "\n",
    "    plt.pause(0.001)  # pause a bit so that plots are updated\n",
    "    if is_ipython:\n",
    "        if not show_result:\n",
    "            display.display(plt.gcf())\n",
    "            display.clear_output(wait=True)\n",
    "        else:\n",
    "            display.display(plt.gcf())"
   ]
  }
 ],
 "metadata": {
  "kernelspec": {
   "display_name": "Python 3 (ipykernel)",
   "language": "python",
   "name": "python3"
  },
  "language_info": {
   "codemirror_mode": {
    "name": "ipython",
    "version": 3
   },
   "file_extension": ".py",
   "mimetype": "text/x-python",
   "name": "python",
   "nbconvert_exporter": "python",
   "pygments_lexer": "ipython3",
   "version": "3.9.16"
  }
 },
 "nbformat": 4,
 "nbformat_minor": 5
}
